{
  "nbformat": 4,
  "nbformat_minor": 0,
  "metadata": {
    "colab": {
      "provenance": [],
      "authorship_tag": "ABX9TyMLznDAAe308JnAA0fxeAWR",
      "include_colab_link": true
    },
    "kernelspec": {
      "name": "python3",
      "display_name": "Python 3"
    },
    "language_info": {
      "name": "python"
    }
  },
  "cells": [
    {
      "cell_type": "markdown",
      "metadata": {
        "id": "view-in-github",
        "colab_type": "text"
      },
      "source": [
        "<a href=\"https://colab.research.google.com/github/Wesleydmoura/Chat_bot/blob/main/Untitled2.ipynb\" target=\"_parent\"><img src=\"https://colab.research.google.com/assets/colab-badge.svg\" alt=\"Open In Colab\"/></a>"
      ]
    },
    {
      "cell_type": "markdown",
      "source": [
        "Instalando o SDK do Google"
      ],
      "metadata": {
        "id": "-lxfCOc8fyLk"
      }
    },
    {
      "cell_type": "code",
      "execution_count": 1,
      "metadata": {
        "id": "jgKqtX60fVk_"
      },
      "outputs": [],
      "source": [
        "!pip install -q -U google-generativeai"
      ]
    },
    {
      "cell_type": "code",
      "source": [
        "\n",
        "import google.generativeai as genai\n",
        "from google.colab import userdata\n",
        "api_key = userdata.get ('SECRET_KEY')\n",
        "genai.configure (api_key=api_key)\n"
      ],
      "metadata": {
        "id": "iaCfJUrjgFf2"
      },
      "execution_count": 50,
      "outputs": []
    },
    {
      "cell_type": "markdown",
      "source": [
        "Listar os modelos disponiveis\n"
      ],
      "metadata": {
        "id": "PJN7DpIVgX4D"
      }
    },
    {
      "cell_type": "code",
      "source": [],
      "metadata": {
        "id": "8Cm74yCghQBJ"
      },
      "execution_count": null,
      "outputs": []
    },
    {
      "cell_type": "code",
      "source": [
        "for m in genai.list_models():\n",
        "  if 'generateContent' in m.supported_generation_methods:\n",
        "    print (m.name)\n",
        ""
      ],
      "metadata": {
        "colab": {
          "base_uri": "https://localhost:8080/",
          "height": 146
        },
        "id": "r2xhcRXqgdUd",
        "outputId": "fa244e3c-1572-4b65-d1ad-49be427d3ce7"
      },
      "execution_count": 8,
      "outputs": [
        {
          "output_type": "stream",
          "name": "stdout",
          "text": [
            "models/gemini-1.0-pro\n",
            "models/gemini-1.0-pro-001\n",
            "models/gemini-1.0-pro-latest\n",
            "models/gemini-1.0-pro-vision-latest\n",
            "models/gemini-1.5-pro-latest\n",
            "models/gemini-pro\n",
            "models/gemini-pro-vision\n"
          ]
        }
      ]
    },
    {
      "cell_type": "code",
      "source": [
        "generation_config = {\n",
        "    \"candidate_count\" :1,\n",
        "    \"temperature\": 0.5,\n",
        "\n",
        "}"
      ],
      "metadata": {
        "id": "3RDswmx7iox8"
      },
      "execution_count": 10,
      "outputs": []
    },
    {
      "cell_type": "markdown",
      "source": [],
      "metadata": {
        "id": "7LV1K6hrgXpx"
      }
    },
    {
      "cell_type": "code",
      "source": [
        "safety_settings ={\n",
        "    \"harassment\": \"block_none\",\n",
        "    \"hate\": \"block_none\",\n",
        "    \"sexual\": \"block_none\",\n",
        "    \"dangerous\":\"block_none\",\n",
        "\n",
        "}"
      ],
      "metadata": {
        "id": "3Kw9D0EUjRLe"
      },
      "execution_count": 36,
      "outputs": []
    },
    {
      "cell_type": "code",
      "source": [
        "model =  genai.GenerativeModel(model_name=\"gemini-1.0-pro\",\n",
        "                               generation_config=generation_config,\n",
        "                               safety_settings=safety_settings)"
      ],
      "metadata": {
        "id": "KAn4Ki-bkQ49"
      },
      "execution_count": 37,
      "outputs": []
    },
    {
      "cell_type": "code",
      "source": [
        "response = model.generate_content(\"Vamos aprender conteudo sobre IA.Me de sugestoes.\")\n",
        "print(response.text)"
      ],
      "metadata": {
        "colab": {
          "base_uri": "https://localhost:8080/",
          "height": 774
        },
        "id": "GMr_EeK1p0gN",
        "outputId": "4e6ff247-b8fe-4d57-9c34-53adf803b6a4"
      },
      "execution_count": 38,
      "outputs": [
        {
          "output_type": "stream",
          "name": "stdout",
          "text": [
            "**Conceitos Fundamentais:**\n",
            "\n",
            "* O que é Inteligência Artificial (IA)?\n",
            "* Tipos de IA: aprendizado de máquina, aprendizado profundo, processamento de linguagem natural\n",
            "* Aplicações da IA em vários setores\n",
            "\n",
            "**Aprendizado de Máquina:**\n",
            "\n",
            "* Tipos de aprendizado de máquina: supervisionado, não supervisionado, por reforço\n",
            "* Algoritmos de aprendizado de máquina: regressão, classificação, agrupamento\n",
            "* Avaliação de modelos de aprendizado de máquina: precisão, recall, F1-score\n",
            "\n",
            "**Aprendizado Profundo:**\n",
            "\n",
            "* Redes neurais: arquitetura, camadas, funções de ativação\n",
            "* Treinamento de redes neurais: propagação direta, retropropagação, otimização\n",
            "* Aplicações do aprendizado profundo: reconhecimento de imagem, processamento de linguagem natural\n",
            "\n",
            "**Processamento de Linguagem Natural (PNL):**\n",
            "\n",
            "* Representação de texto: tokenização, stemming, lematização\n",
            "* Análise de sentimento: classificação de texto em positivo, negativo ou neutro\n",
            "* Geração de linguagem natural: criação de texto a partir de dados\n",
            "\n",
            "**Ética e Implicações Sociais da IA:**\n",
            "\n",
            "* Viés na IA: causas e mitigação\n",
            "* Privacidade e segurança: proteção de dados pessoais\n",
            "* Impacto da IA no emprego e na sociedade\n",
            "\n",
            "**Recursos de Aprendizagem:**\n",
            "\n",
            "* Cursos online: Coursera, edX, Udemy\n",
            "* Livros: \"Inteligência Artificial: Uma Abordagem Moderna\" (Stuart Russell e Peter Norvig), \"Aprendizado de Máquina\" (Tom Mitchell)\n",
            "* Tutoriais e documentação: TensorFlow, PyTorch, Scikit-learn\n",
            "\n",
            "**Projetos Práticos:**\n",
            "\n",
            "* Construa um modelo de aprendizado de máquina para prever preços de ações\n",
            "* Desenvolva um chatbot usando processamento de linguagem natural\n",
            "* Crie um aplicativo de reconhecimento de imagem usando aprendizado profundo\n"
          ]
        }
      ]
    },
    {
      "cell_type": "code",
      "source": [
        "chat = model.start_chat (history= [])"
      ],
      "metadata": {
        "id": "3C9Oa8oZqABR"
      },
      "execution_count": 39,
      "outputs": []
    },
    {
      "cell_type": "code",
      "source": [
        "prompt = input (\"Esperando Prompt:\")\n",
        "while prompt !=\"fim\" :\n",
        "  response = chat.send_message (prompt)\n",
        "  print( \" Resposta:\",response.text)\n",
        "  prompt =input( \"Esperando prompt:\")"
      ],
      "metadata": {
        "colab": {
          "base_uri": "https://localhost:8080/",
          "height": 72
        },
        "id": "mLXJGon-qUgj",
        "outputId": "736cc80f-834f-45e3-a0ec-e615c6b80386"
      },
      "execution_count": 42,
      "outputs": [
        {
          "name": "stdout",
          "output_type": "stream",
          "text": [
            "Esperando Prompt:Qual pais mais rico ?\n",
            " Resposta: Estados Unidos\n",
            "Esperando prompt:fim\n"
          ]
        }
      ]
    }
  ]
}